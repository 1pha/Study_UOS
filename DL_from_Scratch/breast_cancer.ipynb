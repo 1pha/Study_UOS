{
 "cells": [
  {
   "cell_type": "code",
   "execution_count": 1,
   "metadata": {},
   "outputs": [],
   "source": [
    "from IPython.core.interactiveshell import InteractiveShell\n",
    "InteractiveShell.ast_node_interactivity = \"all\""
   ]
  },
  {
   "cell_type": "code",
   "execution_count": 2,
   "metadata": {},
   "outputs": [
    {
     "name": "stderr",
     "output_type": "stream",
     "text": [
      "Using TensorFlow backend.\n"
     ]
    }
   ],
   "source": [
    "import numpy as np\n",
    "import pandas as pd\n",
    "import seaborn as sns\n",
    "from keras import models, layers, optimizers"
   ]
  },
  {
   "cell_type": "code",
   "execution_count": 7,
   "metadata": {},
   "outputs": [
    {
     "data": {
      "text/html": [
       "<div>\n",
       "<style scoped>\n",
       "    .dataframe tbody tr th:only-of-type {\n",
       "        vertical-align: middle;\n",
       "    }\n",
       "\n",
       "    .dataframe tbody tr th {\n",
       "        vertical-align: top;\n",
       "    }\n",
       "\n",
       "    .dataframe thead th {\n",
       "        text-align: right;\n",
       "    }\n",
       "</style>\n",
       "<table border=\"1\" class=\"dataframe\">\n",
       "  <thead>\n",
       "    <tr style=\"text-align: right;\">\n",
       "      <th></th>\n",
       "      <th>clump_thickness</th>\n",
       "      <th>uniformity_of_cell_size</th>\n",
       "      <th>uniformity_of_cell_shape</th>\n",
       "      <th>marginal_adhesion</th>\n",
       "      <th>single_epithelial_cell_size</th>\n",
       "      <th>bare_nuclei</th>\n",
       "      <th>bland_chromatin</th>\n",
       "      <th>normal_nucleoli</th>\n",
       "      <th>mitosis</th>\n",
       "      <th>class</th>\n",
       "    </tr>\n",
       "  </thead>\n",
       "  <tbody>\n",
       "    <tr>\n",
       "      <th>0</th>\n",
       "      <td>5.0</td>\n",
       "      <td>1.0</td>\n",
       "      <td>1.0</td>\n",
       "      <td>1.0</td>\n",
       "      <td>2.0</td>\n",
       "      <td>1.0</td>\n",
       "      <td>3.0</td>\n",
       "      <td>1.0</td>\n",
       "      <td>1.0</td>\n",
       "      <td>2.0</td>\n",
       "    </tr>\n",
       "    <tr>\n",
       "      <th>1</th>\n",
       "      <td>5.0</td>\n",
       "      <td>4.0</td>\n",
       "      <td>4.0</td>\n",
       "      <td>5.0</td>\n",
       "      <td>7.0</td>\n",
       "      <td>10.0</td>\n",
       "      <td>3.0</td>\n",
       "      <td>2.0</td>\n",
       "      <td>1.0</td>\n",
       "      <td>2.0</td>\n",
       "    </tr>\n",
       "    <tr>\n",
       "      <th>2</th>\n",
       "      <td>3.0</td>\n",
       "      <td>1.0</td>\n",
       "      <td>1.0</td>\n",
       "      <td>1.0</td>\n",
       "      <td>2.0</td>\n",
       "      <td>2.0</td>\n",
       "      <td>3.0</td>\n",
       "      <td>1.0</td>\n",
       "      <td>1.0</td>\n",
       "      <td>2.0</td>\n",
       "    </tr>\n",
       "  </tbody>\n",
       "</table>\n",
       "</div>"
      ],
      "text/plain": [
       "   clump_thickness  uniformity_of_cell_size  uniformity_of_cell_shape  \\\n",
       "0              5.0                      1.0                       1.0   \n",
       "1              5.0                      4.0                       4.0   \n",
       "2              3.0                      1.0                       1.0   \n",
       "\n",
       "   marginal_adhesion  single_epithelial_cell_size  bare_nuclei  \\\n",
       "0                1.0                          2.0          1.0   \n",
       "1                5.0                          7.0         10.0   \n",
       "2                1.0                          2.0          2.0   \n",
       "\n",
       "   bland_chromatin  normal_nucleoli  mitosis  class  \n",
       "0              3.0              1.0      1.0    2.0  \n",
       "1              3.0              2.0      1.0    2.0  \n",
       "2              3.0              1.0      1.0    2.0  "
      ]
     },
     "execution_count": 7,
     "metadata": {},
     "output_type": "execute_result"
    },
    {
     "name": "stdout",
     "output_type": "stream",
     "text": [
      "<class 'pandas.core.frame.DataFrame'>\n",
      "RangeIndex: 554 entries, 0 to 553\n",
      "Data columns (total 10 columns):\n",
      "clump_thickness                554 non-null float64\n",
      "uniformity_of_cell_size        554 non-null float64\n",
      "uniformity_of_cell_shape       554 non-null float64\n",
      "marginal_adhesion              554 non-null float64\n",
      "single_epithelial_cell_size    554 non-null float64\n",
      "bare_nuclei                    554 non-null float64\n",
      "bland_chromatin                554 non-null float64\n",
      "normal_nucleoli                554 non-null float64\n",
      "mitosis                        554 non-null float64\n",
      "class                          554 non-null float64\n",
      "dtypes: float64(10)\n",
      "memory usage: 43.4 KB\n"
     ]
    }
   ],
   "source": [
    "df = pd.read_csv('breast_cancer_scikit_onehot_dataset.csv')\n",
    "df.head(3)\n",
    "df.info()"
   ]
  },
  {
   "cell_type": "code",
   "execution_count": 14,
   "metadata": {},
   "outputs": [],
   "source": [
    "def one_hot_encoding(df):\n",
    "    result = []\n",
    "    for data in np.array(df.iloc[:, -1]):\n",
    "        result.append([0 if i!=data else 1 for i in range(len(df.iloc[:, -1].unique()))])\n",
    "    return result"
   ]
  },
  {
   "cell_type": "code",
   "execution_count": 18,
   "metadata": {},
   "outputs": [],
   "source": [
    "# df = pd.read_csv('breast_cancer_scikit_onehot_dataset.csv')\n",
    "x_train = np.array(df.iloc[:500, :-1])\n",
    "x_test = np.array(df.iloc[500:, :-1])\n",
    "\n",
    "target = np.array(df.iloc[:, -1])\n",
    "target_encoded = []\n",
    "for data in target:\n",
    "    tmp = [0, 0]\n",
    "    if data == 2:\n",
    "        tmp[0] = 1\n",
    "    if data == 4:\n",
    "        tmp[1] = 1\n",
    "    target_encoded.append(tmp)\n",
    "\n",
    "y_train = np.array(target_encoded[:500])\n",
    "y_test = np.array(target_encoded[500:])"
   ]
  },
  {
   "cell_type": "code",
   "execution_count": 26,
   "metadata": {},
   "outputs": [
    {
     "data": {
      "text/plain": [
       "array([[0., 0., 1., 0., 0.],\n",
       "       [0., 0., 1., 0., 0.],\n",
       "       [0., 0., 1., 0., 0.],\n",
       "       ...,\n",
       "       [0., 0., 1., 0., 0.],\n",
       "       [0., 0., 1., 0., 0.],\n",
       "       [0., 0., 0., 0., 1.]], dtype=float32)"
      ]
     },
     "execution_count": 26,
     "metadata": {},
     "output_type": "execute_result"
    }
   ],
   "source": [
    "from keras.utils.np_utils import to_categorical\n",
    "\n",
    "one_hot_y = to_categorical(target)\n",
    "one_hot_y"
   ]
  },
  {
   "cell_type": "code",
   "execution_count": 22,
   "metadata": {},
   "outputs": [
    {
     "name": "stderr",
     "output_type": "stream",
     "text": [
      "W0707 18:44:29.926469 16100 deprecation_wrapper.py:119] From C:\\Users\\1_pha\\AppData\\Local\\Continuum\\anaconda3\\envs\\pathenv\\lib\\site-packages\\keras\\optimizers.py:790: The name tf.train.Optimizer is deprecated. Please use tf.compat.v1.train.Optimizer instead.\n",
      "\n",
      "W0707 18:44:29.942428 16100 deprecation_wrapper.py:119] From C:\\Users\\1_pha\\AppData\\Local\\Continuum\\anaconda3\\envs\\pathenv\\lib\\site-packages\\keras\\backend\\tensorflow_backend.py:3295: The name tf.log is deprecated. Please use tf.math.log instead.\n",
      "\n",
      "W0707 18:44:30.007821 16100 deprecation.py:323] From C:\\Users\\1_pha\\AppData\\Local\\Continuum\\anaconda3\\envs\\pathenv\\lib\\site-packages\\tensorflow\\python\\ops\\math_grad.py:1250: add_dispatch_support.<locals>.wrapper (from tensorflow.python.ops.array_ops) is deprecated and will be removed in a future version.\n",
      "Instructions for updating:\n",
      "Use tf.where in 2.0, which has the same broadcast rule as np.where\n",
      "W0707 18:44:30.049709 16100 deprecation_wrapper.py:119] From C:\\Users\\1_pha\\AppData\\Local\\Continuum\\anaconda3\\envs\\pathenv\\lib\\site-packages\\keras\\backend\\tensorflow_backend.py:986: The name tf.assign_add is deprecated. Please use tf.compat.v1.assign_add instead.\n",
      "\n"
     ]
    },
    {
     "name": "stdout",
     "output_type": "stream",
     "text": [
      "Train on 500 samples, validate on 54 samples\n",
      "Epoch 1/20\n",
      "500/500 [==============================] - 0s 317us/step - loss: 1.3581 - acc: 0.3960 - val_loss: 0.9226 - val_acc: 0.1852\n",
      "Epoch 2/20\n",
      "500/500 [==============================] - 0s 32us/step - loss: 0.5801 - acc: 0.6520 - val_loss: 0.4957 - val_acc: 0.9074\n",
      "Epoch 3/20\n",
      "500/500 [==============================] - 0s 38us/step - loss: 0.4645 - acc: 0.8360 - val_loss: 0.4158 - val_acc: 0.9444\n",
      "Epoch 4/20\n",
      "500/500 [==============================] - 0s 28us/step - loss: 0.4039 - acc: 0.8660 - val_loss: 0.3385 - val_acc: 0.9444\n",
      "Epoch 5/20\n",
      "500/500 [==============================] - 0s 32us/step - loss: 0.3624 - acc: 0.8940 - val_loss: 0.2924 - val_acc: 0.9630\n",
      "Epoch 6/20\n",
      "500/500 [==============================] - 0s 30us/step - loss: 0.3311 - acc: 0.9140 - val_loss: 0.2866 - val_acc: 0.9630\n",
      "Epoch 7/20\n",
      "500/500 [==============================] - 0s 30us/step - loss: 0.3051 - acc: 0.9100 - val_loss: 0.2536 - val_acc: 0.9630\n",
      "Epoch 8/20\n",
      "500/500 [==============================] - 0s 38us/step - loss: 0.2860 - acc: 0.9180 - val_loss: 0.2124 - val_acc: 0.9630\n",
      "Epoch 9/20\n",
      "500/500 [==============================] - 0s 34us/step - loss: 0.2695 - acc: 0.9280 - val_loss: 0.2110 - val_acc: 0.9630\n",
      "Epoch 10/20\n",
      "500/500 [==============================] - 0s 32us/step - loss: 0.2536 - acc: 0.9320 - val_loss: 0.1874 - val_acc: 0.9630\n",
      "Epoch 11/20\n",
      "500/500 [==============================] - 0s 28us/step - loss: 0.2393 - acc: 0.9280 - val_loss: 0.1645 - val_acc: 0.9630\n",
      "Epoch 12/20\n",
      "500/500 [==============================] - 0s 34us/step - loss: 0.2253 - acc: 0.9520 - val_loss: 0.1471 - val_acc: 0.9630\n",
      "Epoch 13/20\n",
      "500/500 [==============================] - 0s 30us/step - loss: 0.2164 - acc: 0.9520 - val_loss: 0.1384 - val_acc: 0.9630\n",
      "Epoch 14/20\n",
      "500/500 [==============================] - 0s 30us/step - loss: 0.2046 - acc: 0.9480 - val_loss: 0.1171 - val_acc: 0.9630\n",
      "Epoch 15/20\n",
      "500/500 [==============================] - 0s 28us/step - loss: 0.1985 - acc: 0.9480 - val_loss: 0.1155 - val_acc: 0.9815\n",
      "Epoch 16/20\n",
      "500/500 [==============================] - 0s 30us/step - loss: 0.1886 - acc: 0.9500 - val_loss: 0.1286 - val_acc: 0.9630\n",
      "Epoch 17/20\n",
      "500/500 [==============================] - 0s 32us/step - loss: 0.1836 - acc: 0.9580 - val_loss: 0.1065 - val_acc: 0.9815\n",
      "Epoch 18/20\n",
      "500/500 [==============================] - 0s 30us/step - loss: 0.1743 - acc: 0.9500 - val_loss: 0.1035 - val_acc: 0.9630\n",
      "Epoch 19/20\n",
      "500/500 [==============================] - 0s 30us/step - loss: 0.1685 - acc: 0.9640 - val_loss: 0.0878 - val_acc: 0.9815\n",
      "Epoch 20/20\n",
      "500/500 [==============================] - 0s 26us/step - loss: 0.1606 - acc: 0.9600 - val_loss: 0.0914 - val_acc: 0.9630\n"
     ]
    }
   ],
   "source": [
    "model = models.Sequential()\n",
    "model.add(layers.Dense(32, activation='relu', input_shape=(9,)))\n",
    "model.add(layers.Dense(2, activation='softmax'))\n",
    "\n",
    "model.compile(optimizer='rmsprop',\n",
    "             loss='categorical_crossentropy',\n",
    "             metrics=['accuracy'])\n",
    "history = model.fit(x_train, y_train,\n",
    "                   epochs=20,\n",
    "                   batch_size=20,\n",
    "                   validation_data=(x_test, y_test))"
   ]
  },
  {
   "cell_type": "code",
   "execution_count": 23,
   "metadata": {},
   "outputs": [
    {
     "data": {
      "text/plain": [
       "[<matplotlib.lines.Line2D at 0x1cee6ffeb00>]"
      ]
     },
     "execution_count": 23,
     "metadata": {},
     "output_type": "execute_result"
    },
    {
     "data": {
      "text/plain": [
       "[<matplotlib.lines.Line2D at 0x1cee5d85c18>]"
      ]
     },
     "execution_count": 23,
     "metadata": {},
     "output_type": "execute_result"
    },
    {
     "data": {
      "text/plain": [
       "Text(0.5, 1.0, 'Training and Validation loss')"
      ]
     },
     "execution_count": 23,
     "metadata": {},
     "output_type": "execute_result"
    },
    {
     "data": {
      "text/plain": [
       "Text(0.5, 0, 'Epochs')"
      ]
     },
     "execution_count": 23,
     "metadata": {},
     "output_type": "execute_result"
    },
    {
     "data": {
      "text/plain": [
       "Text(0, 0.5, 'Loss')"
      ]
     },
     "execution_count": 23,
     "metadata": {},
     "output_type": "execute_result"
    },
    {
     "data": {
      "text/plain": [
       "<matplotlib.legend.Legend at 0x1cee5b51080>"
      ]
     },
     "execution_count": 23,
     "metadata": {},
     "output_type": "execute_result"
    },
    {
     "data": {
      "image/png": "[encoded data removed]",
      "text/plain": [
       "<Figure size 432x288 with 1 Axes>"
      ]
     },
     "metadata": {
      "needs_background": "light"
     },
     "output_type": "display_data"
    }
   ],
   "source": [
    "import matplotlib.pyplot as plt\n",
    "\n",
    "history_dict = history.history\n",
    "loss = history_dict['loss']\n",
    "val_loss = history_dict['val_loss']\n",
    "\n",
    "epochs = range(1, len(loss) + 1)\n",
    "\n",
    "plt.plot(epochs, loss, 'bo', label='Training Loss')\n",
    "plt.plot(epochs, val_loss, 'b', label='Validation Loss')\n",
    "plt.title('Training and Validation loss')\n",
    "plt.xlabel('Epochs')\n",
    "plt.ylabel('Loss')\n",
    "plt.legend()\n",
    "\n",
    "plt.show()"
   ]
  },
  {
   "cell_type": "code",
   "execution_count": 24,
   "metadata": {},
   "outputs": [
    {
     "data": {
      "text/plain": [
       "[<matplotlib.lines.Line2D at 0x1cee70b27b8>]"
      ]
     },
     "execution_count": 24,
     "metadata": {},
     "output_type": "execute_result"
    },
    {
     "data": {
      "text/plain": [
       "[<matplotlib.lines.Line2D at 0x1cee7018080>]"
      ]
     },
     "execution_count": 24,
     "metadata": {},
     "output_type": "execute_result"
    },
    {
     "data": {
      "text/plain": [
       "Text(0.5, 1.0, 'Training and Validation Accuracy')"
      ]
     },
     "execution_count": 24,
     "metadata": {},
     "output_type": "execute_result"
    },
    {
     "data": {
      "text/plain": [
       "Text(0.5, 0, 'Epochs')"
      ]
     },
     "execution_count": 24,
     "metadata": {},
     "output_type": "execute_result"
    },
    {
     "data": {
      "text/plain": [
       "Text(0, 0.5, 'Accuracy')"
      ]
     },
     "execution_count": 24,
     "metadata": {},
     "output_type": "execute_result"
    },
    {
     "data": {
      "image/png": "[encoded data removed]",
      "text/plain": [
       "<Figure size 432x288 with 1 Axes>"
      ]
     },
     "metadata": {
      "needs_background": "light"
     },
     "output_type": "display_data"
    }
   ],
   "source": [
    "plt.clf()\n",
    "acc = history_dict['acc']\n",
    "val_acc = history_dict['val_acc']\n",
    "\n",
    "plt.plot(epochs, acc, 'bo', label='Training Accuracy')\n",
    "plt.plot(epochs, val_acc, 'b', label='Validation Accuracy')\n",
    "plt.title('Training and Validation Accuracy')\n",
    "plt.xlabel('Epochs')\n",
    "plt.ylabel('Accuracy')\n",
    "\n",
    "plt.show()"
   ]
  },
  {
   "cell_type": "code",
   "execution_count": null,
   "metadata": {},
   "outputs": [],
   "source": []
  }
 ],
 "metadata": {
  "kernelspec": {
   "display_name": "Python 3",
   "language": "python",
   "name": "python3"
  },
  "language_info": {
   "codemirror_mode": {
    "name": "ipython",
    "version": 3
   },
   "file_extension": ".py",
   "mimetype": "text/x-python",
   "name": "python",
   "nbconvert_exporter": "python",
   "pygments_lexer": "ipython3",
   "version": "3.7.3"
  }
 },
 "nbformat": 4,
 "nbformat_minor": 2
}
