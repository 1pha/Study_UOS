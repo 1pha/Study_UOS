{
 "cells": [
  {
   "cell_type": "code",
   "execution_count": 1,
   "metadata": {
    "ExecuteTime": {
     "end_time": "2019-07-09T13:05:07.730951Z",
     "start_time": "2019-07-09T13:05:05.342511Z"
    }
   },
   "outputs": [],
   "source": [
    "import numpy as np\n",
    "import pandas as pd\n",
    "import matplotlib.pyplot as plt\n",
    "import seaborn as sns\n",
    "import missingno as msno\n",
    "# import csv\n",
    "from scipy.special import expit as Sigmoid\n",
    "from scipy.special import softmax as Softmax"
   ]
  },
  {
   "cell_type": "code",
   "execution_count": 2,
   "metadata": {
    "ExecuteTime": {
     "end_time": "2019-07-09T13:05:07.750925Z",
     "start_time": "2019-07-09T13:05:07.734912Z"
    }
   },
   "outputs": [],
   "source": [
    "class NullError(Exception):\n",
    "    def __init__(self, error_msg):\n",
    "        self.error_msg = error_msg\n",
    "    def __str__(self):\n",
    "        return self.error_msg"
   ]
  },
  {
   "cell_type": "code",
   "execution_count": 3,
   "metadata": {
    "ExecuteTime": {
     "end_time": "2019-07-09T13:05:07.850874Z",
     "start_time": "2019-07-09T13:05:07.754906Z"
    }
   },
   "outputs": [],
   "source": [
    "class BreastCancerDataSet:\n",
    "    \n",
    "    path = \"breast_cancer_scikit_onehot_dataset.csv\"\n",
    "    \n",
    "    \n",
    "    def __init__(self):\n",
    "        self.df = pd.read_csv(BreastCancerDataSet.path)\n",
    "        self.data = self.df.iloc[:,:-1]\n",
    "        self.target = self.df.iloc[:,-1]\n",
    "        self.size = self.target.size # 554\n",
    "        self.columns = self.data.columns # []\n",
    "    \n",
    "    def zero_to_one(self):\n",
    "        min_data, max_data = 1, 10\n",
    "        data = self.data.copy()\n",
    "        for key in data.keys():\n",
    "            for i in range(self.size):\n",
    "                data.loc[i, key] /= max_data\n",
    "        return data\n",
    "\n",
    "    def one_hot_encoding(self):\n",
    "        positive_label, negative_label = 4, 2\n",
    "        target = self.target.copy()\n",
    "        for i in range(self.size):\n",
    "            if target[i] == positive_label:\n",
    "                target[i] = 1\n",
    "            else:\n",
    "                target[i] = 0\n",
    "        return target\n",
    "    \n",
    "    def train_test_split(self, data, target, test_size=None, train_size=500):\n",
    "        \n",
    "        if test_size == None:\n",
    "            X_train = data.iloc[:train_size,:]\n",
    "            X_test = data.iloc[train_size:,:]\n",
    "            y_train = target[:train_size]\n",
    "            y_test = target[train_size:]\n",
    "        elif test_size is not None:\n",
    "            pass\n",
    "        \n",
    "        return X_train, X_test, y_train, y_test\n",
    "    \n",
    "    def accuracy_score(self, y_test, predicted):\n",
    "        target = np.array(y_test)\n",
    "        predicted = np.array(predicted)\n",
    "        accuracy = 0\n",
    "        \n",
    "        for idx, lst in enumerate(predicted):\n",
    "            if np.argmax(lst) == target[idx]:\n",
    "                accuracy += 1\n",
    "        return accuracy / len(target)"
   ]
  },
  {
   "cell_type": "code",
   "execution_count": 4,
   "metadata": {
    "ExecuteTime": {
     "end_time": "2019-07-09T13:05:07.870870Z",
     "start_time": "2019-07-09T13:05:07.858873Z"
    }
   },
   "outputs": [],
   "source": [
    "class GradientDescent:\n",
    "    \n",
    "    def __init__(self, learning_rate=0.01):\n",
    "        self.learning_rate = learning_rate\n",
    "    \n",
    "    def update(self, weight, gradient):\n",
    "#         self.who += self.lr * np.dot((output_errors * final_outputs * (1.0 - final_outputs)), np.transpose(hidden_outputs))\n",
    "        pass"
   ]
  },
  {
   "cell_type": "code",
   "execution_count": 5,
   "metadata": {
    "ExecuteTime": {
     "end_time": "2019-07-09T13:05:07.902864Z",
     "start_time": "2019-07-09T13:05:07.878868Z"
    }
   },
   "outputs": [],
   "source": [
    "class ErrorBackpropagation:\n",
    "    \n",
    "    def __init__(self):\n",
    "        pass"
   ]
  },
  {
   "cell_type": "code",
   "execution_count": 27,
   "metadata": {
    "ExecuteTime": {
     "end_time": "2019-07-09T13:15:10.810315Z",
     "start_time": "2019-07-09T13:15:10.758327Z"
    }
   },
   "outputs": [],
   "source": [
    "class BinaryClassification:\n",
    "    \n",
    "    def __init__(self, inodes, hnodes, hnumber, onodes, learning_rate=0.01):\n",
    "        self.inodes = inodes\n",
    "        self.hnodes = hnodes\n",
    "        self.hnumber = hnumber\n",
    "        self.onodes = onodes\n",
    "        self.learning_rate = learning_rate\n",
    "        self.activation_function = lambda x : Sigmoid(x)\n",
    "        self.weight = [np.random.normal(0.0, pow(self.hnodes, -0.5), (self.hnodes, self.inodes))] + [np.random.normal(0.0, pow(self.hnodes, -0.5), (self.hnodes, self.hnodes)) for _ in range(self.hnumber - 1)] + [np.random.normal(0.0, pow(self.onodes, -0.5), (self.onodes, self.hnodes))] \n",
    "\n",
    "    def init_weight(self):\n",
    "#         weight = self.weight.copy()\n",
    "        pass\n",
    "    \n",
    "    def fit(self, X_train, y_train): # Gradient Descent\n",
    "        \n",
    "        for idx in range(y_train.size):\n",
    "            case_data = np.array(X_train.iloc[idx,:], ndmin=2).T\n",
    "            case_target = np.array([y_train[idx],[]], ndmin=2).T\n",
    "            if case_target[0][0] == True: # one-hot encoding\n",
    "                case_target[0] = [0]\n",
    "                case_target[1] = [1]\n",
    "            else:\n",
    "                case_target[0] = [1]\n",
    "                case_target[1] = [0]\n",
    "            \n",
    "            # Computing Output\n",
    "            case_hdata = self.activation_function(np.dot(self.weight[0], case_data))\n",
    "            case_alldata = [case_data, case_hdata]\n",
    "            for h_num in range(1, self.hnumber): # hidden layers\n",
    "                case_hdata = self.activation_function(np.dot(self.weight[h_num], case_hdata))\n",
    "                case_alldata.append(case_hdata)\n",
    "            case_output = self.activation_function(np.dot(self.weight[-1], case_hdata))\n",
    "            \n",
    "            # Error Backpropagation\n",
    "            case_error = case_target - case_output\n",
    "            case_herror = np.dot(self.weight[-1].T, case_error)\n",
    "            case_allerror = [case_error, case_herror]\n",
    "            for h_num in range(1, self.hnumber):\n",
    "                case_herror = np.dot(self.weight[self.hnumber - h_num].T, case_herror)\n",
    "                case_allerror.append(case_herror)\n",
    "            \n",
    "            # Gradient Descent\n",
    "#             aaa = self.learning_rate * np.dot((case_error * case_output * (1.0 - case_output)), case_alldata[-1].T)\n",
    "#             print(aaa + self.weight[-1])\n",
    "#             break\n",
    "            self.weight[-1] = np.add(self.weight[-1], self.learning_rate * np.dot((case_error * case_output * (1.0 - case_output)), case_alldata[-1].T), out=self.weight[-1], casting='unsafe')\n",
    "            for h_num in range(1, self.hnumber+1):\n",
    "                self.weight[self.hnumber - h_num] = np.add(self.weight[self.hnumber - h_num], self.learning_rate * np.dot((case_allerror[h_num] * case_alldata[-h_num] * (1.0 - case_alldata[-h_num])), case_alldata[-h_num - 1].T), out=self.weight[self.hnumber - h_num], casting='unsafe')\n",
    "            pass\n",
    "\n",
    "    def predict(self, X_test):\n",
    "        test_cases = int(X_test.size / len(X_test.columns))\n",
    "        predicted = []\n",
    "        for idx in range(test_cases):\n",
    "            case_data = np.array(X_test.iloc[idx,:], ndmin=2).T\n",
    "            \n",
    "            case_hdata = self.activation_function(np.dot(self.weight[0], case_data))\n",
    "            for h_num in range(1, self.hnumber):\n",
    "                case_hdata = self.activation_function(np.dot(self.weight[h_num], case_hdata))\n",
    "            case_predicted = self.activation_function(np.dot(self.weight[-1], case_hdata))\n",
    "            predicted.append(case_predicted)\n",
    "        return predicted"
   ]
  },
  {
   "cell_type": "code",
   "execution_count": 29,
   "metadata": {
    "ExecuteTime": {
     "end_time": "2019-07-09T13:16:38.826078Z",
     "start_time": "2019-07-09T13:16:38.814085Z"
    }
   },
   "outputs": [],
   "source": [
    "class MultipleClassification(BinaryClassification):\n",
    "    \n",
    "    def fit(self):\n",
    "        pass"
   ]
  },
  {
   "cell_type": "markdown",
   "metadata": {},
   "source": [
    "#### Data Collection"
   ]
  },
  {
   "cell_type": "code",
   "execution_count": 7,
   "metadata": {
    "ExecuteTime": {
     "end_time": "2019-07-09T13:05:08.054816Z",
     "start_time": "2019-07-09T13:05:07.974839Z"
    }
   },
   "outputs": [
    {
     "name": "stdout",
     "output_type": "stream",
     "text": [
      "<class 'pandas.core.frame.DataFrame'>\n",
      "RangeIndex: 554 entries, 0 to 553\n",
      "Data columns (total 10 columns):\n",
      "clump_thickness                554 non-null float64\n",
      "uniformity_of_cell_size        554 non-null float64\n",
      "uniformity_of_cell_shape       554 non-null float64\n",
      "marginal_adhesion              554 non-null float64\n",
      "single_epithelial_cell_size    554 non-null float64\n",
      "bare_nuclei                    554 non-null float64\n",
      "bland_chromatin                554 non-null float64\n",
      "normal_nucleoli                554 non-null float64\n",
      "mitosis                        554 non-null float64\n",
      "class                          554 non-null float64\n",
      "dtypes: float64(10)\n",
      "memory usage: 43.4 KB\n"
     ]
    },
    {
     "data": {
      "text/html": [
       "<div>\n",
       "<style scoped>\n",
       "    .dataframe tbody tr th:only-of-type {\n",
       "        vertical-align: middle;\n",
       "    }\n",
       "\n",
       "    .dataframe tbody tr th {\n",
       "        vertical-align: top;\n",
       "    }\n",
       "\n",
       "    .dataframe thead th {\n",
       "        text-align: right;\n",
       "    }\n",
       "</style>\n",
       "<table border=\"1\" class=\"dataframe\">\n",
       "  <thead>\n",
       "    <tr style=\"text-align: right;\">\n",
       "      <th></th>\n",
       "      <th>clump_thickness</th>\n",
       "      <th>uniformity_of_cell_size</th>\n",
       "      <th>uniformity_of_cell_shape</th>\n",
       "      <th>marginal_adhesion</th>\n",
       "      <th>single_epithelial_cell_size</th>\n",
       "      <th>bare_nuclei</th>\n",
       "      <th>bland_chromatin</th>\n",
       "      <th>normal_nucleoli</th>\n",
       "      <th>mitosis</th>\n",
       "      <th>class</th>\n",
       "    </tr>\n",
       "  </thead>\n",
       "  <tbody>\n",
       "    <tr>\n",
       "      <th>0</th>\n",
       "      <td>5.0</td>\n",
       "      <td>1.0</td>\n",
       "      <td>1.0</td>\n",
       "      <td>1.0</td>\n",
       "      <td>2.0</td>\n",
       "      <td>1.0</td>\n",
       "      <td>3.0</td>\n",
       "      <td>1.0</td>\n",
       "      <td>1.0</td>\n",
       "      <td>2.0</td>\n",
       "    </tr>\n",
       "    <tr>\n",
       "      <th>1</th>\n",
       "      <td>5.0</td>\n",
       "      <td>4.0</td>\n",
       "      <td>4.0</td>\n",
       "      <td>5.0</td>\n",
       "      <td>7.0</td>\n",
       "      <td>10.0</td>\n",
       "      <td>3.0</td>\n",
       "      <td>2.0</td>\n",
       "      <td>1.0</td>\n",
       "      <td>2.0</td>\n",
       "    </tr>\n",
       "    <tr>\n",
       "      <th>2</th>\n",
       "      <td>3.0</td>\n",
       "      <td>1.0</td>\n",
       "      <td>1.0</td>\n",
       "      <td>1.0</td>\n",
       "      <td>2.0</td>\n",
       "      <td>2.0</td>\n",
       "      <td>3.0</td>\n",
       "      <td>1.0</td>\n",
       "      <td>1.0</td>\n",
       "      <td>2.0</td>\n",
       "    </tr>\n",
       "    <tr>\n",
       "      <th>3</th>\n",
       "      <td>6.0</td>\n",
       "      <td>8.0</td>\n",
       "      <td>8.0</td>\n",
       "      <td>1.0</td>\n",
       "      <td>3.0</td>\n",
       "      <td>4.0</td>\n",
       "      <td>3.0</td>\n",
       "      <td>7.0</td>\n",
       "      <td>1.0</td>\n",
       "      <td>2.0</td>\n",
       "    </tr>\n",
       "    <tr>\n",
       "      <th>4</th>\n",
       "      <td>4.0</td>\n",
       "      <td>1.0</td>\n",
       "      <td>1.0</td>\n",
       "      <td>3.0</td>\n",
       "      <td>2.0</td>\n",
       "      <td>1.0</td>\n",
       "      <td>3.0</td>\n",
       "      <td>1.0</td>\n",
       "      <td>1.0</td>\n",
       "      <td>2.0</td>\n",
       "    </tr>\n",
       "  </tbody>\n",
       "</table>\n",
       "</div>"
      ],
      "text/plain": [
       "   clump_thickness  uniformity_of_cell_size  uniformity_of_cell_shape  \\\n",
       "0              5.0                      1.0                       1.0   \n",
       "1              5.0                      4.0                       4.0   \n",
       "2              3.0                      1.0                       1.0   \n",
       "3              6.0                      8.0                       8.0   \n",
       "4              4.0                      1.0                       1.0   \n",
       "\n",
       "   marginal_adhesion  single_epithelial_cell_size  bare_nuclei  \\\n",
       "0                1.0                          2.0          1.0   \n",
       "1                5.0                          7.0         10.0   \n",
       "2                1.0                          2.0          2.0   \n",
       "3                1.0                          3.0          4.0   \n",
       "4                3.0                          2.0          1.0   \n",
       "\n",
       "   bland_chromatin  normal_nucleoli  mitosis  class  \n",
       "0              3.0              1.0      1.0    2.0  \n",
       "1              3.0              2.0      1.0    2.0  \n",
       "2              3.0              1.0      1.0    2.0  \n",
       "3              3.0              7.0      1.0    2.0  \n",
       "4              3.0              1.0      1.0    2.0  "
      ]
     },
     "execution_count": 7,
     "metadata": {},
     "output_type": "execute_result"
    }
   ],
   "source": [
    "bc = BreastCancerDataSet()\n",
    "bc.df.info()\n",
    "bc.df.head()"
   ]
  },
  {
   "cell_type": "markdown",
   "metadata": {},
   "source": [
    "#### Data Preprocessing"
   ]
  },
  {
   "cell_type": "code",
   "execution_count": 8,
   "metadata": {
    "ExecuteTime": {
     "end_time": "2019-07-09T13:05:08.090806Z",
     "start_time": "2019-07-09T13:05:08.062813Z"
    }
   },
   "outputs": [],
   "source": [
    "for key in bc.df.keys():\n",
    "    for idx, val in enumerate(bc.df[key]):\n",
    "        if pd.isnull(val):\n",
    "            raise NullError('Null data must be eliminated')"
   ]
  },
  {
   "cell_type": "markdown",
   "metadata": {},
   "source": [
    "#### Exploratory Data Analysis"
   ]
  },
  {
   "cell_type": "code",
   "execution_count": 9,
   "metadata": {
    "ExecuteTime": {
     "end_time": "2019-07-09T13:05:08.218765Z",
     "start_time": "2019-07-09T13:05:08.094804Z"
    }
   },
   "outputs": [
    {
     "data": {
      "text/html": [
       "<div>\n",
       "<style scoped>\n",
       "    .dataframe tbody tr th:only-of-type {\n",
       "        vertical-align: middle;\n",
       "    }\n",
       "\n",
       "    .dataframe tbody tr th {\n",
       "        vertical-align: top;\n",
       "    }\n",
       "\n",
       "    .dataframe thead th {\n",
       "        text-align: right;\n",
       "    }\n",
       "</style>\n",
       "<table border=\"1\" class=\"dataframe\">\n",
       "  <thead>\n",
       "    <tr style=\"text-align: right;\">\n",
       "      <th></th>\n",
       "      <th>clump_thickness</th>\n",
       "      <th>uniformity_of_cell_size</th>\n",
       "      <th>uniformity_of_cell_shape</th>\n",
       "      <th>marginal_adhesion</th>\n",
       "      <th>single_epithelial_cell_size</th>\n",
       "      <th>bare_nuclei</th>\n",
       "      <th>bland_chromatin</th>\n",
       "      <th>normal_nucleoli</th>\n",
       "      <th>mitosis</th>\n",
       "      <th>class</th>\n",
       "    </tr>\n",
       "  </thead>\n",
       "  <tbody>\n",
       "    <tr>\n",
       "      <th>count</th>\n",
       "      <td>554.000000</td>\n",
       "      <td>554.000000</td>\n",
       "      <td>554.000000</td>\n",
       "      <td>554.000000</td>\n",
       "      <td>554.000000</td>\n",
       "      <td>554.000000</td>\n",
       "      <td>554.000000</td>\n",
       "      <td>554.000000</td>\n",
       "      <td>554.000000</td>\n",
       "      <td>554.000000</td>\n",
       "    </tr>\n",
       "    <tr>\n",
       "      <th>mean</th>\n",
       "      <td>4.566787</td>\n",
       "      <td>3.202166</td>\n",
       "      <td>3.272563</td>\n",
       "      <td>2.871841</td>\n",
       "      <td>3.319495</td>\n",
       "      <td>3.785199</td>\n",
       "      <td>3.496390</td>\n",
       "      <td>2.992780</td>\n",
       "      <td>1.655235</td>\n",
       "      <td>2.743682</td>\n",
       "    </tr>\n",
       "    <tr>\n",
       "      <th>std</th>\n",
       "      <td>2.904766</td>\n",
       "      <td>3.016338</td>\n",
       "      <td>2.974832</td>\n",
       "      <td>2.883482</td>\n",
       "      <td>2.316873</td>\n",
       "      <td>3.735717</td>\n",
       "      <td>2.336321</td>\n",
       "      <td>3.089377</td>\n",
       "      <td>1.794683</td>\n",
       "      <td>0.967466</td>\n",
       "    </tr>\n",
       "    <tr>\n",
       "      <th>min</th>\n",
       "      <td>1.000000</td>\n",
       "      <td>1.000000</td>\n",
       "      <td>1.000000</td>\n",
       "      <td>1.000000</td>\n",
       "      <td>1.000000</td>\n",
       "      <td>1.000000</td>\n",
       "      <td>1.000000</td>\n",
       "      <td>1.000000</td>\n",
       "      <td>1.000000</td>\n",
       "      <td>2.000000</td>\n",
       "    </tr>\n",
       "    <tr>\n",
       "      <th>25%</th>\n",
       "      <td>2.000000</td>\n",
       "      <td>1.000000</td>\n",
       "      <td>1.000000</td>\n",
       "      <td>1.000000</td>\n",
       "      <td>2.000000</td>\n",
       "      <td>1.000000</td>\n",
       "      <td>2.000000</td>\n",
       "      <td>1.000000</td>\n",
       "      <td>1.000000</td>\n",
       "      <td>2.000000</td>\n",
       "    </tr>\n",
       "    <tr>\n",
       "      <th>50%</th>\n",
       "      <td>4.000000</td>\n",
       "      <td>1.000000</td>\n",
       "      <td>2.000000</td>\n",
       "      <td>1.000000</td>\n",
       "      <td>2.000000</td>\n",
       "      <td>1.000000</td>\n",
       "      <td>3.000000</td>\n",
       "      <td>1.000000</td>\n",
       "      <td>1.000000</td>\n",
       "      <td>2.000000</td>\n",
       "    </tr>\n",
       "    <tr>\n",
       "      <th>75%</th>\n",
       "      <td>6.000000</td>\n",
       "      <td>5.000000</td>\n",
       "      <td>5.000000</td>\n",
       "      <td>4.000000</td>\n",
       "      <td>4.000000</td>\n",
       "      <td>8.000000</td>\n",
       "      <td>5.000000</td>\n",
       "      <td>4.000000</td>\n",
       "      <td>1.000000</td>\n",
       "      <td>4.000000</td>\n",
       "    </tr>\n",
       "    <tr>\n",
       "      <th>max</th>\n",
       "      <td>10.000000</td>\n",
       "      <td>10.000000</td>\n",
       "      <td>10.000000</td>\n",
       "      <td>10.000000</td>\n",
       "      <td>10.000000</td>\n",
       "      <td>10.000000</td>\n",
       "      <td>10.000000</td>\n",
       "      <td>10.000000</td>\n",
       "      <td>10.000000</td>\n",
       "      <td>4.000000</td>\n",
       "    </tr>\n",
       "  </tbody>\n",
       "</table>\n",
       "</div>"
      ],
      "text/plain": [
       "       clump_thickness  uniformity_of_cell_size  uniformity_of_cell_shape  \\\n",
       "count       554.000000               554.000000                554.000000   \n",
       "mean          4.566787                 3.202166                  3.272563   \n",
       "std           2.904766                 3.016338                  2.974832   \n",
       "min           1.000000                 1.000000                  1.000000   \n",
       "25%           2.000000                 1.000000                  1.000000   \n",
       "50%           4.000000                 1.000000                  2.000000   \n",
       "75%           6.000000                 5.000000                  5.000000   \n",
       "max          10.000000                10.000000                 10.000000   \n",
       "\n",
       "       marginal_adhesion  single_epithelial_cell_size  bare_nuclei  \\\n",
       "count         554.000000                   554.000000   554.000000   \n",
       "mean            2.871841                     3.319495     3.785199   \n",
       "std             2.883482                     2.316873     3.735717   \n",
       "min             1.000000                     1.000000     1.000000   \n",
       "25%             1.000000                     2.000000     1.000000   \n",
       "50%             1.000000                     2.000000     1.000000   \n",
       "75%             4.000000                     4.000000     8.000000   \n",
       "max            10.000000                    10.000000    10.000000   \n",
       "\n",
       "       bland_chromatin  normal_nucleoli     mitosis       class  \n",
       "count       554.000000       554.000000  554.000000  554.000000  \n",
       "mean          3.496390         2.992780    1.655235    2.743682  \n",
       "std           2.336321         3.089377    1.794683    0.967466  \n",
       "min           1.000000         1.000000    1.000000    2.000000  \n",
       "25%           2.000000         1.000000    1.000000    2.000000  \n",
       "50%           3.000000         1.000000    1.000000    2.000000  \n",
       "75%           5.000000         4.000000    1.000000    4.000000  \n",
       "max          10.000000        10.000000   10.000000    4.000000  "
      ]
     },
     "execution_count": 9,
     "metadata": {},
     "output_type": "execute_result"
    }
   ],
   "source": [
    "bc.df.describe() # all values (except for class(==label)) are between 1 and 10"
   ]
  },
  {
   "cell_type": "code",
   "execution_count": 10,
   "metadata": {
    "ExecuteTime": {
     "end_time": "2019-07-09T13:05:08.266755Z",
     "start_time": "2019-07-09T13:05:08.222766Z"
    }
   },
   "outputs": [],
   "source": [
    "# bc.data = bc.zero_to_one() # data의 값들을 0.1 ~ 1.0으로, target의 값들을 0, 1로 변환\n",
    "bc.target = bc.one_hot_encoding()\n",
    "# bc.data.to_csv(\"bc_data.csv\")\n",
    "# bc.target.to_csv(\"bc_target.csv\")"
   ]
  },
  {
   "cell_type": "code",
   "execution_count": 11,
   "metadata": {
    "ExecuteTime": {
     "end_time": "2019-07-09T13:05:08.286754Z",
     "start_time": "2019-07-09T13:05:08.270751Z"
    },
    "scrolled": true
   },
   "outputs": [],
   "source": [
    "# bc.data"
   ]
  },
  {
   "cell_type": "code",
   "execution_count": 12,
   "metadata": {
    "ExecuteTime": {
     "end_time": "2019-07-09T13:05:08.314739Z",
     "start_time": "2019-07-09T13:05:08.290745Z"
    },
    "scrolled": true
   },
   "outputs": [
    {
     "data": {
      "text/plain": [
       "0.0    348\n",
       "1.0    206\n",
       "Name: class, dtype: int64"
      ]
     },
     "execution_count": 12,
     "metadata": {},
     "output_type": "execute_result"
    }
   ],
   "source": [
    "# print(bc.target)\n",
    "bc.target.value_counts()"
   ]
  },
  {
   "cell_type": "markdown",
   "metadata": {},
   "source": [
    "##### Feature Engineering"
   ]
  },
  {
   "cell_type": "code",
   "execution_count": 13,
   "metadata": {
    "ExecuteTime": {
     "end_time": "2019-07-09T13:05:09.898272Z",
     "start_time": "2019-07-09T13:05:08.318738Z"
    },
    "hide_input": true
   },
   "outputs": [
    {
     "data": {
      "image/png": "[encoded data removed]",
      "text/plain": [
       "<Figure size 504x432 with 2 Axes>"
      ]
     },
     "metadata": {
      "needs_background": "light"
     },
     "output_type": "display_data"
    }
   ],
   "source": [
    "heatmap_data = bc.df.loc[:,:]\n",
    "colormap = plt.cm.RdBu\n",
    "plt.figure(figsize=(7,6))\n",
    "plt.title('Pearson Correlation of Features', y=1.05, size=15)\n",
    "sns.heatmap(heatmap_data.astype(float).corr(), linewidths=0.1, vmax=1.0, square=True, cmap=colormap, linecolor='white', annot=True, annot_kws={\"size\":16})\n",
    "del heatmap_data"
   ]
  },
  {
   "cell_type": "markdown",
   "metadata": {},
   "source": [
    "#### Model Selection and Evaluation & Application"
   ]
  },
  {
   "cell_type": "code",
   "execution_count": 25,
   "metadata": {
    "ExecuteTime": {
     "end_time": "2019-07-09T13:11:54.271878Z",
     "start_time": "2019-07-09T13:11:52.184498Z"
    },
    "scrolled": true
   },
   "outputs": [
    {
     "name": "stdout",
     "output_type": "stream",
     "text": [
      "[0.6274864376130199, 0.6274864376130199, 0.6274864376130199, 0.6274864376130199, 0.6274864376130199]\n",
      "average accuracy : 0.6274864376130199 ==> 62.75%\n"
     ]
    }
   ],
   "source": [
    "inodes = 9 # len(bc.columns) == 9\n",
    "hnodes = 200\n",
    "hnumber = 2\n",
    "onodes = 2\n",
    "learning_rate = 0.01\n",
    "epoch = 5\n",
    "binary_model = BinaryClassification(inodes=inodes, hnodes=hnodes, hnumber=hnumber, onodes=onodes, learning_rate=learning_rate)\n",
    "\n",
    "# print(binary_model.weight[0].shape)\n",
    "X_train, X_test, y_train, y_test = bc.train_test_split(bc.data, bc.target, test_size=None, train_size=1)\n",
    "# print(X_train, X_test, y_train, y_test)\n",
    "# print(y_train.size)\n",
    "accuracy = []\n",
    "for e in range(epoch):\n",
    "    binary_model.fit(X_train, y_train)\n",
    "    \n",
    "    predicted = binary_model.predict(X_test)\n",
    "#     print(predicted)\n",
    "    accuracy.append( bc.accuracy_score(y_test, predicted) )\n",
    "print(accuracy)\n",
    "average_accuracy = np.mean(accuracy)\n",
    "print('average accuracy : {0} ==> {1:0.2f}%'.format(average_accuracy, average_accuracy * 100))"
   ]
  },
  {
   "cell_type": "markdown",
   "metadata": {},
   "source": [
    "#### Hold Out"
   ]
  },
  {
   "cell_type": "code",
   "execution_count": 15,
   "metadata": {
    "ExecuteTime": {
     "end_time": "2019-07-09T13:05:52.523976Z",
     "start_time": "2019-07-09T13:05:52.096105Z"
    }
   },
   "outputs": [
    {
     "name": "stdout",
     "output_type": "stream",
     "text": [
      "0.9642857142857143\n"
     ]
    }
   ],
   "source": [
    "from sklearn.tree import DecisionTreeClassifier\n",
    "from sklearn.model_selection import train_test_split\n",
    "from sklearn.metrics import accuracy_score\n",
    "\n",
    "X_train, X_test, y_train, y_test = train_test_split(bc.data, bc.target, test_size=0.1)\n",
    "dt_clf = DecisionTreeClassifier()\n",
    "dt_clf.fit(X_train, y_train)\n",
    "pred = dt_clf.predict(X_test)\n",
    "accuracy = accuracy_score(y_test, pred)\n",
    "print(accuracy)"
   ]
  },
  {
   "cell_type": "markdown",
   "metadata": {},
   "source": [
    "#### K-Fold"
   ]
  },
  {
   "cell_type": "code",
   "execution_count": 16,
   "metadata": {
    "ExecuteTime": {
     "end_time": "2019-07-09T13:05:52.535974Z",
     "start_time": "2019-07-09T13:05:52.527975Z"
    }
   },
   "outputs": [],
   "source": [
    "# from sklearn.model_selection import KFold\n",
    "\n",
    "# X_train, X_test, y_train, y_test = train_test_split(bc.data, bc.target, test_size=0.1)\n",
    "# kfold = KFold(n_splits=277)\n",
    "# accuracy = []\n",
    "# dt_clf = DecisionTreeClassifier()\n",
    "# for train_idx, valid_idx in kfold.split(X_train):\n",
    "#     x_train, x_valid = X_train[train_idx], X_train[valid_idx]\n",
    "#     z_train, z_valid = y_train[train_idx], y_train[valid_idx]\n",
    "#     dt_clf.fit(x_train, z_train)\n",
    "#     pred = dt_clf.predict(x_valid)\n",
    "#     accuracy.append(accuracy_score(z_valid, pred))\n",
    "# print(np.mean(accuracy))"
   ]
  }
 ],
 "metadata": {
  "kernelspec": {
   "display_name": "Python 3",
   "language": "python",
   "name": "python3"
  },
  "language_info": {
   "codemirror_mode": {
    "name": "ipython",
    "version": 3
   },
   "file_extension": ".py",
   "mimetype": "text/x-python",
   "name": "python",
   "nbconvert_exporter": "python",
   "pygments_lexer": "ipython3",
   "version": "3.7.3"
  },
  "varInspector": {
   "cols": {
    "lenName": 16,
    "lenType": 16,
    "lenVar": 40
   },
   "kernels_config": {
    "python": {
     "delete_cmd_postfix": "",
     "delete_cmd_prefix": "del ",
     "library": "var_list.py",
     "varRefreshCmd": "print(var_dic_list())"
    },
    "r": {
     "delete_cmd_postfix": ") ",
     "delete_cmd_prefix": "rm(",
     "library": "var_list.r",
     "varRefreshCmd": "cat(var_dic_list()) "
    }
   },
   "types_to_exclude": [
    "module",
    "function",
    "builtin_function_or_method",
    "instance",
    "_Feature"
   ],
   "window_display": false
  }
 },
 "nbformat": 4,
 "nbformat_minor": 2
}
