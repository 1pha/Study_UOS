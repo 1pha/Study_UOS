{
 "cells": [
  {
   "cell_type": "code",
   "execution_count": 1,
   "metadata": {},
   "outputs": [],
   "source": [
    "from IPython.core.interactiveshell import InteractiveShell\n",
    "InteractiveShell.ast_node_interactivity = \"all\""
   ]
  },
  {
   "cell_type": "code",
   "execution_count": 2,
   "metadata": {},
   "outputs": [],
   "source": [
    "import numpy as np\n",
    "import pandas as pd\n",
    "import matplotlib.pyplot as plt\n",
    "from optimizer import *\n",
    "from two_layer_net import TwoLayerNet\n",
    "from mnist import load_mnist"
   ]
  },
  {
   "cell_type": "code",
   "execution_count": 3,
   "metadata": {},
   "outputs": [],
   "source": [
    "# 데이터 읽기\n",
    "(x_train, t_train), (x_test, t_test) = load_mnist(normalize=True, one_hot_label=True)"
   ]
  },
  {
   "cell_type": "code",
   "execution_count": 4,
   "metadata": {},
   "outputs": [],
   "source": [
    "network = {\n",
    "    \"SGD\" : TwoLayerNet(input_size=784, hidden_size=50, output_size=10),\n",
    "    \"Momentum\" : TwoLayerNet(input_size=784, hidden_size=50, output_size=10),\n",
    "    \"AdaGrad\" : TwoLayerNet(input_size=784, hidden_size=50, output_size=10),\n",
    "    \"Adam\" :TwoLayerNet(input_size=784, hidden_size=50, output_size=10)\n",
    "}\n",
    "# 하이퍼파라미터\n",
    "iters_num = 10000  # 반복 횟수를 적절히 설정한다.\n",
    "train_size = x_train.shape[0]\n",
    "batch_size = 100   # 미니배치 크기\n",
    "learning_rate = 0.1"
   ]
  },
  {
   "cell_type": "code",
   "execution_count": 5,
   "metadata": {},
   "outputs": [],
   "source": [
    "# initializing part\n",
    "# hyper-parameters, epochs\n",
    "train_loss_list = {\n",
    "    \"SGD\" : [],\n",
    "    \"Momentum\" : [],\n",
    "    \"AdaGrad\" : [],\n",
    "    \"Adam\" : []\n",
    "}\n",
    "train_acc_list = {\n",
    "    \"SGD\" : [],\n",
    "    \"Momentum\" : [],\n",
    "    \"AdaGrad\" : [],\n",
    "    \"Adam\" : []\n",
    "}\n",
    "test_acc_list = {\n",
    "    \"SGD\" : [],\n",
    "    \"Momentum\" : [],\n",
    "    \"AdaGrad\" : [],\n",
    "    \"Adam\" : []\n",
    "}\n",
    "\n",
    "iter_per_epoch = max(train_size / batch_size, 1)"
   ]
  },
  {
   "cell_type": "code",
   "execution_count": 6,
   "metadata": {},
   "outputs": [],
   "source": [
    "# set optimizer\n",
    "optimizers = {\n",
    "    \"SGD\" : SGD(lr=0.1),\n",
    "    \"Momentum\" : Momentum(lr=0.1),\n",
    "    \"AdaGrad\" : AdaGrad(lr=0.1),\n",
    "    \"Adam\" : Adam(lr=0.1)\n",
    "}"
   ]
  },
  {
   "cell_type": "code",
   "execution_count": 7,
   "metadata": {},
   "outputs": [
    {
     "name": "stdout",
     "output_type": "stream",
     "text": [
      "SGD\n",
      "train acc, test acc | 0.10441666666666667, 0.1028\n",
      "train acc, test acc | 0.78735, 0.7943\n",
      "train acc, test acc | 0.8766666666666667, 0.8814\n",
      "train acc, test acc | 0.9002333333333333, 0.9015\n",
      "train acc, test acc | 0.9088666666666667, 0.9119\n",
      "train acc, test acc | 0.9151, 0.9177\n",
      "train acc, test acc | 0.92085, 0.9205\n",
      "train acc, test acc | 0.9257, 0.926\n",
      "train acc, test acc | 0.92845, 0.9296\n",
      "train acc, test acc | 0.9323, 0.9328\n",
      "train acc, test acc | 0.9353, 0.9349\n",
      "train acc, test acc | 0.9380666666666667, 0.9384\n",
      "train acc, test acc | 0.9407333333333333, 0.9407\n",
      "train acc, test acc | 0.9426833333333333, 0.9418\n",
      "train acc, test acc | 0.9449833333333333, 0.943\n",
      "train acc, test acc | 0.9463666666666667, 0.9449\n",
      "train acc, test acc | 0.94765, 0.9453\n",
      "Momentum\n",
      "train acc, test acc | 0.09863333333333334, 0.0958\n",
      "train acc, test acc | 0.9292333333333334, 0.9296\n",
      "train acc, test acc | 0.9494833333333333, 0.9485\n",
      "train acc, test acc | 0.9588666666666666, 0.9556\n",
      "train acc, test acc | 0.9665, 0.9612\n",
      "train acc, test acc | 0.9711166666666666, 0.9637\n",
      "train acc, test acc | 0.9738333333333333, 0.9639\n",
      "train acc, test acc | 0.9775333333333334, 0.9673\n",
      "train acc, test acc | 0.9795666666666667, 0.9692\n",
      "train acc, test acc | 0.9801166666666666, 0.9699\n",
      "train acc, test acc | 0.9827333333333333, 0.9711\n",
      "train acc, test acc | 0.98275, 0.9709\n",
      "train acc, test acc | 0.98515, 0.9725\n",
      "train acc, test acc | 0.9862833333333333, 0.9719\n",
      "train acc, test acc | 0.9869166666666667, 0.9729\n",
      "train acc, test acc | 0.98805, 0.9741\n",
      "train acc, test acc | 0.9886833333333334, 0.973\n",
      "AdaGrad\n",
      "train acc, test acc | 0.21146666666666666, 0.2141\n",
      "train acc, test acc | 0.9461666666666667, 0.9433\n",
      "train acc, test acc | 0.9580166666666666, 0.9539\n",
      "train acc, test acc | 0.9649666666666666, 0.9594\n",
      "train acc, test acc | 0.9698666666666667, 0.9606\n",
      "train acc, test acc | 0.97335, 0.9633\n",
      "train acc, test acc | 0.9756166666666667, 0.9638\n",
      "train acc, test acc | 0.9767833333333333, 0.9637\n",
      "train acc, test acc | 0.9794166666666667, 0.9652\n",
      "train acc, test acc | 0.9809333333333333, 0.9649\n",
      "train acc, test acc | 0.9822833333333333, 0.9662\n",
      "train acc, test acc | 0.9831, 0.9661\n",
      "train acc, test acc | 0.9844833333333334, 0.9664\n",
      "train acc, test acc | 0.9858, 0.9674\n",
      "train acc, test acc | 0.9864833333333334, 0.9669\n",
      "train acc, test acc | 0.98695, 0.9678\n",
      "train acc, test acc | 0.98765, 0.9672\n",
      "Adam\n",
      "train acc, test acc | 0.1748, 0.1777\n",
      "train acc, test acc | 0.8060666666666667, 0.8089\n",
      "train acc, test acc | 0.8245833333333333, 0.8222\n",
      "train acc, test acc | 0.8295333333333333, 0.8304\n",
      "train acc, test acc | 0.83335, 0.8286\n",
      "train acc, test acc | 0.8149333333333333, 0.8159\n",
      "train acc, test acc | 0.8240166666666666, 0.8247\n",
      "train acc, test acc | 0.83065, 0.8317\n",
      "train acc, test acc | 0.8460833333333333, 0.8424\n",
      "train acc, test acc | 0.8511833333333333, 0.8496\n",
      "train acc, test acc | 0.8339333333333333, 0.8333\n",
      "train acc, test acc | 0.8515166666666667, 0.8491\n",
      "train acc, test acc | 0.8429666666666666, 0.8419\n",
      "train acc, test acc | 0.854, 0.8558\n",
      "train acc, test acc | 0.8644833333333334, 0.8647\n",
      "train acc, test acc | 0.8343666666666667, 0.8315\n",
      "train acc, test acc | 0.8636333333333334, 0.864\n"
     ]
    }
   ],
   "source": [
    "for key, optimizer in optimizers.items():\n",
    "    print(key)\n",
    "    for i in range(iters_num):\n",
    "        # 미니배치 획득\n",
    "        batch_mask = np.random.choice(train_size, batch_size)\n",
    "        x_batch = x_train[batch_mask]\n",
    "        t_batch = t_train[batch_mask]\n",
    "\n",
    "        # 기울기 계산\n",
    "        #grad = network.numerical_gradient(x_batch, t_batch)\n",
    "        grad = network[key].gradient(x_batch, t_batch)\n",
    "\n",
    "        # 매개변수\n",
    "        optimizer.update(network[key].params, grad)\n",
    "\n",
    "        # 학습 경과 기록\n",
    "        loss = network[key].loss(x_batch, t_batch)\n",
    "        train_loss_list[key].append(loss)\n",
    "\n",
    "        # 1에폭당 정확도 계산\n",
    "        if i % iter_per_epoch == 0:\n",
    "            train_acc = network[key].accuracy(x_train, t_train)\n",
    "            test_acc = network[key].accuracy(x_test, t_test)\n",
    "            train_acc_list[key].append(train_acc)\n",
    "            test_acc_list[key].append(test_acc)\n",
    "            print(\"train acc, test acc | \" + str(train_acc) + \", \" + str(test_acc))"
   ]
  },
  {
   "cell_type": "code",
   "execution_count": 10,
   "metadata": {},
   "outputs": [
    {
     "data": {
      "text/plain": [
       "[<matplotlib.lines.Line2D at 0x26c3d1a9fd0>]"
      ]
     },
     "execution_count": 10,
     "metadata": {},
     "output_type": "execute_result"
    },
    {
     "data": {
      "text/plain": [
       "[<matplotlib.lines.Line2D at 0x26c3d186160>]"
      ]
     },
     "execution_count": 10,
     "metadata": {},
     "output_type": "execute_result"
    },
    {
     "data": {
      "text/plain": [
       "[<matplotlib.lines.Line2D at 0x26c3d186a58>]"
      ]
     },
     "execution_count": 10,
     "metadata": {},
     "output_type": "execute_result"
    },
    {
     "data": {
      "text/plain": [
       "[<matplotlib.lines.Line2D at 0x26c3d1b6898>]"
      ]
     },
     "execution_count": 10,
     "metadata": {},
     "output_type": "execute_result"
    },
    {
     "data": {
      "text/plain": [
       "Text(0.5, 0, 'epochs')"
      ]
     },
     "execution_count": 10,
     "metadata": {},
     "output_type": "execute_result"
    },
    {
     "data": {
      "text/plain": [
       "Text(0, 0.5, 'accuracy')"
      ]
     },
     "execution_count": 10,
     "metadata": {},
     "output_type": "execute_result"
    },
    {
     "data": {
      "text/plain": [
       "(0.0, 1.0)"
      ]
     },
     "execution_count": 10,
     "metadata": {},
     "output_type": "execute_result"
    },
    {
     "data": {
      "text/plain": [
       "<matplotlib.legend.Legend at 0x26c3d1b6d30>"
      ]
     },
     "execution_count": 10,
     "metadata": {},
     "output_type": "execute_result"
    },
    {
     "data": {
      "image/png": "[encoded data removed]",
      "text/plain": [
       "<Figure size 432x288 with 1 Axes>"
      ]
     },
     "metadata": {
      "needs_background": "light"
     },
     "output_type": "display_data"
    }
   ],
   "source": [
    "# draw them all - train\n",
    "markers = {'train': 'o', 'test': 's'}\n",
    "x = np.arange(len(train_acc_list['SGD']))\n",
    "for key in optimizers:\n",
    "    plt.plot(x, train_acc_list[key], label=key)\n",
    "plt.xlabel(\"epochs\")\n",
    "plt.ylabel(\"accuracy\")\n",
    "plt.ylim(0.0, 1.0)\n",
    "plt.legend(loc='lower right')\n",
    "plt.show()"
   ]
  },
  {
   "cell_type": "code",
   "execution_count": null,
   "metadata": {},
   "outputs": [],
   "source": []
  }
 ],
 "metadata": {
  "kernelspec": {
   "display_name": "Python 3",
   "language": "python",
   "name": "python3"
  },
  "language_info": {
   "codemirror_mode": {
    "name": "ipython",
    "version": 3
   },
   "file_extension": ".py",
   "mimetype": "text/x-python",
   "name": "python",
   "nbconvert_exporter": "python",
   "pygments_lexer": "ipython3",
   "version": "3.7.3"
  }
 },
 "nbformat": 4,
 "nbformat_minor": 2
}
